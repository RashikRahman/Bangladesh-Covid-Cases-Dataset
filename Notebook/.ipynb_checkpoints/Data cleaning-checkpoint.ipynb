{
 "cells": [
  {
   "cell_type": "code",
   "execution_count": 23,
   "metadata": {},
   "outputs": [],
   "source": [
    "import pandas as pd\n",
    "import os\n",
    "import numpy as np"
   ]
  },
  {
   "cell_type": "code",
   "execution_count": 2,
   "metadata": {},
   "outputs": [
    {
     "data": {
      "text/plain": [
       "['Cases_Barisal.xls',\n",
       " 'Cases_BD.xls',\n",
       " 'Cases_CTG.xls',\n",
       " 'Cases_DHK.xls',\n",
       " 'Cases_Khulna.xls',\n",
       " 'Cases_Msingh.xls',\n",
       " 'Cases_Rajshahi.xls',\n",
       " 'Cases_Rangpur.xls',\n",
       " 'Cases_sylhet.xls',\n",
       " 'Deaths_Barisal.xls',\n",
       " 'Deaths_BD.xls',\n",
       " 'Deaths_CTG.xls',\n",
       " 'Deaths_DHK.xls',\n",
       " 'Deaths_Khulna.xls',\n",
       " 'Deaths_Msingh.xls',\n",
       " 'Deaths_Rajshahi.xls',\n",
       " 'Deaths_Rangpur.xls',\n",
       " 'Deaths_sylhet.xls']"
      ]
     },
     "execution_count": 2,
     "metadata": {},
     "output_type": "execute_result"
    }
   ],
   "source": [
    "os.listdir('../Dataset/')"
   ]
  },
  {
   "cell_type": "code",
   "execution_count": 3,
   "metadata": {},
   "outputs": [],
   "source": [
    "Cases_Barisal = pd.read_html('../Dataset/Cases_Barisal.xls')[0]\n",
    "Cases_BD = pd.read_html('../Dataset/Cases_BD.xls')[0]\n",
    "Cases_CTG = pd.read_html('../Dataset/Cases_CTG.xls')[0]\n",
    "Cases_DHK = pd.read_html('../Dataset/Cases_DHK.xls')[0]\n",
    "Cases_Khulna = pd.read_html('../Dataset/Cases_Khulna.xls')[0]\n",
    "Cases_Msingh = pd.read_html('../Dataset/Cases_Msingh.xls')[0]\n",
    "Cases_Rajshahi = pd.read_html('../Dataset/Cases_Rajshahi.xls')[0]\n",
    "Cases_Rangpur = pd.read_html('../Dataset/Cases_Rangpur.xls')[0]\n",
    "Cases_sylhet = pd.read_html('../Dataset/Cases_sylhet.xls')[0]"
   ]
  },
  {
   "cell_type": "code",
   "execution_count": 4,
   "metadata": {},
   "outputs": [],
   "source": [
    "Deaths_Barisal = pd.read_html('../Dataset/Deaths_Barisal.xls')[0]\n",
    "Deaths_BD = pd.read_html('../Dataset/Deaths_BD.xls')[0]\n",
    "Deaths_CTG = pd.read_html('../Dataset/Deaths_CTG.xls')[0]\n",
    "Deaths_DHK = pd.read_html('../Dataset/Deaths_DHK.xls')[0]\n",
    "Deaths_Khulna = pd.read_html('../Dataset/Deaths_Khulna.xls')[0]\n",
    "Deaths_Msingh = pd.read_html('../Dataset/Deaths_Msingh.xls')[0]\n",
    "Deaths_Rajshahi = pd.read_html('../Dataset/Deaths_Rajshahi.xls')[0]\n",
    "Deaths_Rangpur = pd.read_html('../Dataset/Deaths_Rangpur.xls')[0]\n",
    "Deaths_sylhet = pd.read_html('../Dataset/Deaths_sylhet.xls')[0]"
   ]
  },
  {
   "cell_type": "code",
   "execution_count": 5,
   "metadata": {},
   "outputs": [
    {
     "name": "stdout",
     "output_type": "stream",
     "text": [
      "<class 'pandas.core.frame.DataFrame'>\n",
      "RangeIndex: 461 entries, 0 to 460\n",
      "Data columns (total 3 columns):\n",
      " #   Column      Non-Null Count  Dtype  \n",
      "---  ------      --------------  -----  \n",
      " 0   Category    461 non-null    object \n",
      " 1   Death       461 non-null    int64  \n",
      " 2   Death Rate  461 non-null    float64\n",
      "dtypes: float64(1), int64(1), object(1)\n",
      "memory usage: 10.9+ KB\n"
     ]
    }
   ],
   "source": [
    "Deaths_BD.info()"
   ]
  },
  {
   "cell_type": "code",
   "execution_count": 6,
   "metadata": {},
   "outputs": [
    {
     "name": "stdout",
     "output_type": "stream",
     "text": [
      "<class 'pandas.core.frame.DataFrame'>\n",
      "RangeIndex: 456 entries, 0 to 455\n",
      "Data columns (total 3 columns):\n",
      " #   Column          Non-Null Count  Dtype \n",
      "---  ------          --------------  ----- \n",
      " 0   Category        456 non-null    object\n",
      " 1   Confirmed case  456 non-null    int64 \n",
      " 2   Case rate       456 non-null    int64 \n",
      "dtypes: int64(2), object(1)\n",
      "memory usage: 10.8+ KB\n"
     ]
    }
   ],
   "source": [
    "Cases_BD.info()"
   ]
  }
 ],
 "metadata": {
  "kernelspec": {
   "display_name": "Python 3",
   "language": "python",
   "name": "python3"
  },
  "language_info": {
   "codemirror_mode": {
    "name": "ipython",
    "version": 3
   },
   "file_extension": ".py",
   "mimetype": "text/x-python",
   "name": "python",
   "nbconvert_exporter": "python",
   "pygments_lexer": "ipython3",
   "version": "3.8.5"
  }
 },
 "nbformat": 4,
 "nbformat_minor": 4
}
